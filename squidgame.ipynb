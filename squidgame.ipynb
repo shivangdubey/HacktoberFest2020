{
  "nbformat": 4,
  "nbformat_minor": 0,
  "metadata": {
    "colab": {
      "name": "Untitled3.ipynb",
      "provenance": [],
      "authorship_tag": "ABX9TyN9cALYQ4tppTFwWYKv8Ap0",
      "include_colab_link": true
    },
    "kernelspec": {
      "name": "python3",
      "display_name": "Python 3"
    },
    "language_info": {
      "name": "python"
    }
  },
  "cells": [
    {
      "cell_type": "markdown",
      "metadata": {
        "id": "view-in-github",
        "colab_type": "text"
      },
      "source": [
        "<a href=\"https://colab.research.google.com/github/roshita2707/HacktoberFest2020-1/blob/master/squidgame.ipynb\" target=\"_parent\"><img src=\"https://colab.research.google.com/assets/colab-badge.svg\" alt=\"Open In Colab\"/></a>"
      ]
    },
    {
      "cell_type": "code",
      "metadata": {
        "id": "mLRXPbLwqDlB"
      },
      "source": [
        "import pandas as pd\n"
      ],
      "execution_count": 3,
      "outputs": []
    },
    {
      "cell_type": "code",
      "metadata": {
        "id": "lw_5BlQWz1oo"
      },
      "source": [
        "df=pd.read_csv('tweets_1.csv.zip')"
      ],
      "execution_count": 15,
      "outputs": []
    },
    {
      "cell_type": "code",
      "metadata": {
        "colab": {
          "base_uri": "https://localhost:8080/",
          "height": 890
        },
        "id": "BDHWy71j0DS7",
        "outputId": "0c4c17aa-0193-4fce-ddfd-cfb4bfd537c3"
      },
      "source": [
        "df"
      ],
      "execution_count": 16,
      "outputs": [
        {
          "output_type": "execute_result",
          "data": {
            "text/html": [
              "<div>\n",
              "<style scoped>\n",
              "    .dataframe tbody tr th:only-of-type {\n",
              "        vertical-align: middle;\n",
              "    }\n",
              "\n",
              "    .dataframe tbody tr th {\n",
              "        vertical-align: top;\n",
              "    }\n",
              "\n",
              "    .dataframe thead th {\n",
              "        text-align: right;\n",
              "    }\n",
              "</style>\n",
              "<table border=\"1\" class=\"dataframe\">\n",
              "  <thead>\n",
              "    <tr style=\"text-align: right;\">\n",
              "      <th></th>\n",
              "      <th>user_name</th>\n",
              "      <th>user_location</th>\n",
              "      <th>user_description</th>\n",
              "      <th>user_created</th>\n",
              "      <th>user_followers</th>\n",
              "      <th>user_friends</th>\n",
              "      <th>user_favourites</th>\n",
              "      <th>user_verified</th>\n",
              "      <th>date</th>\n",
              "      <th>text</th>\n",
              "      <th>source</th>\n",
              "      <th>is_retweet</th>\n",
              "    </tr>\n",
              "  </thead>\n",
              "  <tbody>\n",
              "    <tr>\n",
              "      <th>0</th>\n",
              "      <td>the _ûndër-ratèd niggáh👊🏾</td>\n",
              "      <td>NaN</td>\n",
              "      <td>@ManUtd die hard❤️❤️💪🏿💪🏿\\n\\n\\nYOLO\\n\\n\\nJ'ai b...</td>\n",
              "      <td>2019-09-06 19:24:57+00:00</td>\n",
              "      <td>581</td>\n",
              "      <td>1035</td>\n",
              "      <td>8922</td>\n",
              "      <td>False</td>\n",
              "      <td>2021-10-06 12:05:38+00:00</td>\n",
              "      <td>When life hits and the same time poverty strik...</td>\n",
              "      <td>Twitter for Android</td>\n",
              "      <td>False</td>\n",
              "    </tr>\n",
              "    <tr>\n",
              "      <th>1</th>\n",
              "      <td>Best uncle on planet earth</td>\n",
              "      <td>NaN</td>\n",
              "      <td>NaN</td>\n",
              "      <td>2013-05-08 19:35:26+00:00</td>\n",
              "      <td>741</td>\n",
              "      <td>730</td>\n",
              "      <td>8432</td>\n",
              "      <td>False</td>\n",
              "      <td>2021-10-06 12:05:22+00:00</td>\n",
              "      <td>That marble episode of #SquidGame  ruined me. 😭😭😭</td>\n",
              "      <td>Twitter for Android</td>\n",
              "      <td>False</td>\n",
              "    </tr>\n",
              "    <tr>\n",
              "      <th>2</th>\n",
              "      <td>marcie</td>\n",
              "      <td>NaN</td>\n",
              "      <td>animal crossing. chicken nuggets. baby yoda. s...</td>\n",
              "      <td>2009-02-21 10:31:30+00:00</td>\n",
              "      <td>562</td>\n",
              "      <td>1197</td>\n",
              "      <td>62732</td>\n",
              "      <td>False</td>\n",
              "      <td>2021-10-06 12:05:22+00:00</td>\n",
              "      <td>#Squidgame time</td>\n",
              "      <td>Twitter Web App</td>\n",
              "      <td>False</td>\n",
              "    </tr>\n",
              "    <tr>\n",
              "      <th>3</th>\n",
              "      <td>YoMo.Mdp</td>\n",
              "      <td>Any pronouns</td>\n",
              "      <td>Where the heck is the karma\\nI'm going on my s...</td>\n",
              "      <td>2021-02-14 13:21:22+00:00</td>\n",
              "      <td>3</td>\n",
              "      <td>277</td>\n",
              "      <td>1341</td>\n",
              "      <td>False</td>\n",
              "      <td>2021-10-06 12:05:04+00:00</td>\n",
              "      <td>//Blood on 1st slide\\nI'm joining the squidgam...</td>\n",
              "      <td>Twitter Web App</td>\n",
              "      <td>False</td>\n",
              "    </tr>\n",
              "    <tr>\n",
              "      <th>4</th>\n",
              "      <td>Laura Reactions</td>\n",
              "      <td>France</td>\n",
              "      <td>I talk and I make reactions videos about shows...</td>\n",
              "      <td>2018-12-19 20:38:28+00:00</td>\n",
              "      <td>330</td>\n",
              "      <td>152</td>\n",
              "      <td>2278</td>\n",
              "      <td>False</td>\n",
              "      <td>2021-10-06 12:05:00+00:00</td>\n",
              "      <td>The two first games, players were killed by th...</td>\n",
              "      <td>Twitter Web App</td>\n",
              "      <td>False</td>\n",
              "    </tr>\n",
              "    <tr>\n",
              "      <th>...</th>\n",
              "      <td>...</td>\n",
              "      <td>...</td>\n",
              "      <td>...</td>\n",
              "      <td>...</td>\n",
              "      <td>...</td>\n",
              "      <td>...</td>\n",
              "      <td>...</td>\n",
              "      <td>...</td>\n",
              "      <td>...</td>\n",
              "      <td>...</td>\n",
              "      <td>...</td>\n",
              "      <td>...</td>\n",
              "    </tr>\n",
              "    <tr>\n",
              "      <th>19995</th>\n",
              "      <td>LaRell</td>\n",
              "      <td>Atlanta, Ga</td>\n",
              "      <td>Current Chase Employee, Former CNNer\\nGay Chri...</td>\n",
              "      <td>2014-08-19 20:51:12+00:00</td>\n",
              "      <td>1026</td>\n",
              "      <td>1224</td>\n",
              "      <td>13243</td>\n",
              "      <td>False</td>\n",
              "      <td>2021-10-06 12:14:36+00:00</td>\n",
              "      <td>Still not over marbles in #SquidGame https://t...</td>\n",
              "      <td>Twitter for Android</td>\n",
              "      <td>False</td>\n",
              "    </tr>\n",
              "    <tr>\n",
              "      <th>19996</th>\n",
              "      <td>Ethan</td>\n",
              "      <td>Canada 🇨🇦</td>\n",
              "      <td>Honest Movie Reviews, and Daily Movie News and...</td>\n",
              "      <td>2021-04-07 17:18:43+00:00</td>\n",
              "      <td>21</td>\n",
              "      <td>169</td>\n",
              "      <td>91</td>\n",
              "      <td>False</td>\n",
              "      <td>2021-10-06 12:13:50+00:00</td>\n",
              "      <td>#SquidGame is 94% on @RottenTomatoes with a 86...</td>\n",
              "      <td>Twitter for Android</td>\n",
              "      <td>False</td>\n",
              "    </tr>\n",
              "    <tr>\n",
              "      <th>19997</th>\n",
              "      <td>Derek Chai Media</td>\n",
              "      <td>Sydney, Australia</td>\n",
              "      <td>Content Creator. 📸💍.Disney 🏰.👨‍👩‍👧‍👧.🐶🐱.👨‍⚕️(m...</td>\n",
              "      <td>2018-04-01 12:02:41+00:00</td>\n",
              "      <td>140</td>\n",
              "      <td>97</td>\n",
              "      <td>8303</td>\n",
              "      <td>False</td>\n",
              "      <td>2021-10-06 12:13:49+00:00</td>\n",
              "      <td>Watching ep 2 of ##SquidGame just to see  what...</td>\n",
              "      <td>Twitterrific for iOS</td>\n",
              "      <td>False</td>\n",
              "    </tr>\n",
              "    <tr>\n",
              "      <th>19998</th>\n",
              "      <td>ADtweets🇿🇼</td>\n",
              "      <td>To infinity and beyond🌌</td>\n",
              "      <td>carpe diem🌁</td>\n",
              "      <td>2020-01-26 21:05:14+00:00</td>\n",
              "      <td>401</td>\n",
              "      <td>512</td>\n",
              "      <td>12296</td>\n",
              "      <td>False</td>\n",
              "      <td>2021-10-06 12:13:37+00:00</td>\n",
              "      <td>Y’all think if #SquidGame was real lots of peo...</td>\n",
              "      <td>Twitter for iPhone</td>\n",
              "      <td>False</td>\n",
              "    </tr>\n",
              "    <tr>\n",
              "      <th>19999</th>\n",
              "      <td>✨Duchess of Kings✨</td>\n",
              "      <td>Bedford Stuyvesant, Brooklyn</td>\n",
              "      <td>A Finer Woman of Zeta Phi Beta Sorority Inc.,I...</td>\n",
              "      <td>2009-07-30 19:36:57+00:00</td>\n",
              "      <td>1385</td>\n",
              "      <td>932</td>\n",
              "      <td>4580</td>\n",
              "      <td>False</td>\n",
              "      <td>2021-10-06 12:13:32+00:00</td>\n",
              "      <td>O. K. #SquidGame …… the end @MissJtotheK I’m d...</td>\n",
              "      <td>Twitter for iPhone</td>\n",
              "      <td>False</td>\n",
              "    </tr>\n",
              "  </tbody>\n",
              "</table>\n",
              "<p>20000 rows × 12 columns</p>\n",
              "</div>"
            ],
            "text/plain": [
              "                        user_name  ... is_retweet\n",
              "0       the _ûndër-ratèd niggáh👊🏾  ...      False\n",
              "1      Best uncle on planet earth  ...      False\n",
              "2                          marcie  ...      False\n",
              "3                        YoMo.Mdp  ...      False\n",
              "4                 Laura Reactions  ...      False\n",
              "...                           ...  ...        ...\n",
              "19995                      LaRell  ...      False\n",
              "19996                       Ethan  ...      False\n",
              "19997            Derek Chai Media  ...      False\n",
              "19998                  ADtweets🇿🇼  ...      False\n",
              "19999          ✨Duchess of Kings✨  ...      False\n",
              "\n",
              "[20000 rows x 12 columns]"
            ]
          },
          "metadata": {},
          "execution_count": 16
        }
      ]
    },
    {
      "cell_type": "code",
      "metadata": {
        "colab": {
          "base_uri": "https://localhost:8080/"
        },
        "id": "CQTDzxmk0RSS",
        "outputId": "bb759b47-09cb-4cfe-e44d-2d85fe50490a"
      },
      "source": [
        "data=df['user_name'].loc[df['user_followers']>=500]\n",
        "data.head().sort_values(ascending=False)"
      ],
      "execution_count": 42,
      "outputs": [
        {
          "output_type": "execute_result",
          "data": {
            "text/plain": [
              "0     the _ûndër-ratèd niggáh👊🏾\n",
              "2                        marcie\n",
              "5                    Peyman 🅚🅐🅘\n",
              "1    Best uncle on planet earth\n",
              "7            BarBiE Fábregas 🇿🇦\n",
              "Name: user_name, dtype: object"
            ]
          },
          "metadata": {},
          "execution_count": 42
        }
      ]
    },
    {
      "cell_type": "code",
      "metadata": {
        "colab": {
          "base_uri": "https://localhost:8080/"
        },
        "id": "T3n1GtCA3SY7",
        "outputId": "81ee2829-616c-4d18-eca8-94900dc23d52"
      },
      "source": [
        "fav=df['user_name'].loc[df['user_favourites']>=10000]\n",
        "fav.head(10).sort_values(ascending=False)"
      ],
      "execution_count": 45,
      "outputs": [
        {
          "output_type": "execute_result",
          "data": {
            "text/plain": [
              "21                     🕊ora⁷\n",
              "28                   𝑀𝓈.𝒴𝑜𝑜𝓃\n",
              "2                     marcie\n",
              "25        dredriven83➡️#NYCC\n",
              "32                    Tali 🐋\n",
              "19    Samaanslife (⧖) 🇲🇻🇺🇸🇵🇸\n",
              "40             Malcolm Scott\n",
              "9               Kevin Franco\n",
              "7         BarBiE Fábregas 🇿🇦\n",
              "27            Anne LaVampyre\n",
              "Name: user_name, dtype: object"
            ]
          },
          "metadata": {},
          "execution_count": 45
        }
      ]
    },
    {
      "cell_type": "code",
      "metadata": {
        "id": "rrcCaEwA47V8"
      },
      "source": [
        "del df['user_verified']"
      ],
      "execution_count": 49,
      "outputs": []
    },
    {
      "cell_type": "code",
      "metadata": {
        "id": "E6RLuaXX5Dj4"
      },
      "source": [
        "del df['date']"
      ],
      "execution_count": 51,
      "outputs": []
    },
    {
      "cell_type": "code",
      "metadata": {
        "colab": {
          "base_uri": "https://localhost:8080/",
          "height": 890
        },
        "id": "Lt0j1iJb5QsN",
        "outputId": "00da4c1a-e1e9-47ce-ccba-97fcff1d3e91"
      },
      "source": [
        "df"
      ],
      "execution_count": 52,
      "outputs": [
        {
          "output_type": "execute_result",
          "data": {
            "text/html": [
              "<div>\n",
              "<style scoped>\n",
              "    .dataframe tbody tr th:only-of-type {\n",
              "        vertical-align: middle;\n",
              "    }\n",
              "\n",
              "    .dataframe tbody tr th {\n",
              "        vertical-align: top;\n",
              "    }\n",
              "\n",
              "    .dataframe thead th {\n",
              "        text-align: right;\n",
              "    }\n",
              "</style>\n",
              "<table border=\"1\" class=\"dataframe\">\n",
              "  <thead>\n",
              "    <tr style=\"text-align: right;\">\n",
              "      <th></th>\n",
              "      <th>user_name</th>\n",
              "      <th>user_location</th>\n",
              "      <th>user_description</th>\n",
              "      <th>user_created</th>\n",
              "      <th>user_followers</th>\n",
              "      <th>user_friends</th>\n",
              "      <th>user_favourites</th>\n",
              "      <th>text</th>\n",
              "      <th>source</th>\n",
              "      <th>is_retweet</th>\n",
              "    </tr>\n",
              "  </thead>\n",
              "  <tbody>\n",
              "    <tr>\n",
              "      <th>0</th>\n",
              "      <td>the _ûndër-ratèd niggáh👊🏾</td>\n",
              "      <td>NaN</td>\n",
              "      <td>@ManUtd die hard❤️❤️💪🏿💪🏿\\n\\n\\nYOLO\\n\\n\\nJ'ai b...</td>\n",
              "      <td>2019-09-06 19:24:57+00:00</td>\n",
              "      <td>581</td>\n",
              "      <td>1035</td>\n",
              "      <td>8922</td>\n",
              "      <td>When life hits and the same time poverty strik...</td>\n",
              "      <td>Twitter for Android</td>\n",
              "      <td>False</td>\n",
              "    </tr>\n",
              "    <tr>\n",
              "      <th>1</th>\n",
              "      <td>Best uncle on planet earth</td>\n",
              "      <td>NaN</td>\n",
              "      <td>NaN</td>\n",
              "      <td>2013-05-08 19:35:26+00:00</td>\n",
              "      <td>741</td>\n",
              "      <td>730</td>\n",
              "      <td>8432</td>\n",
              "      <td>That marble episode of #SquidGame  ruined me. 😭😭😭</td>\n",
              "      <td>Twitter for Android</td>\n",
              "      <td>False</td>\n",
              "    </tr>\n",
              "    <tr>\n",
              "      <th>2</th>\n",
              "      <td>marcie</td>\n",
              "      <td>NaN</td>\n",
              "      <td>animal crossing. chicken nuggets. baby yoda. s...</td>\n",
              "      <td>2009-02-21 10:31:30+00:00</td>\n",
              "      <td>562</td>\n",
              "      <td>1197</td>\n",
              "      <td>62732</td>\n",
              "      <td>#Squidgame time</td>\n",
              "      <td>Twitter Web App</td>\n",
              "      <td>False</td>\n",
              "    </tr>\n",
              "    <tr>\n",
              "      <th>3</th>\n",
              "      <td>YoMo.Mdp</td>\n",
              "      <td>Any pronouns</td>\n",
              "      <td>Where the heck is the karma\\nI'm going on my s...</td>\n",
              "      <td>2021-02-14 13:21:22+00:00</td>\n",
              "      <td>3</td>\n",
              "      <td>277</td>\n",
              "      <td>1341</td>\n",
              "      <td>//Blood on 1st slide\\nI'm joining the squidgam...</td>\n",
              "      <td>Twitter Web App</td>\n",
              "      <td>False</td>\n",
              "    </tr>\n",
              "    <tr>\n",
              "      <th>4</th>\n",
              "      <td>Laura Reactions</td>\n",
              "      <td>France</td>\n",
              "      <td>I talk and I make reactions videos about shows...</td>\n",
              "      <td>2018-12-19 20:38:28+00:00</td>\n",
              "      <td>330</td>\n",
              "      <td>152</td>\n",
              "      <td>2278</td>\n",
              "      <td>The two first games, players were killed by th...</td>\n",
              "      <td>Twitter Web App</td>\n",
              "      <td>False</td>\n",
              "    </tr>\n",
              "    <tr>\n",
              "      <th>...</th>\n",
              "      <td>...</td>\n",
              "      <td>...</td>\n",
              "      <td>...</td>\n",
              "      <td>...</td>\n",
              "      <td>...</td>\n",
              "      <td>...</td>\n",
              "      <td>...</td>\n",
              "      <td>...</td>\n",
              "      <td>...</td>\n",
              "      <td>...</td>\n",
              "    </tr>\n",
              "    <tr>\n",
              "      <th>19995</th>\n",
              "      <td>LaRell</td>\n",
              "      <td>Atlanta, Ga</td>\n",
              "      <td>Current Chase Employee, Former CNNer\\nGay Chri...</td>\n",
              "      <td>2014-08-19 20:51:12+00:00</td>\n",
              "      <td>1026</td>\n",
              "      <td>1224</td>\n",
              "      <td>13243</td>\n",
              "      <td>Still not over marbles in #SquidGame https://t...</td>\n",
              "      <td>Twitter for Android</td>\n",
              "      <td>False</td>\n",
              "    </tr>\n",
              "    <tr>\n",
              "      <th>19996</th>\n",
              "      <td>Ethan</td>\n",
              "      <td>Canada 🇨🇦</td>\n",
              "      <td>Honest Movie Reviews, and Daily Movie News and...</td>\n",
              "      <td>2021-04-07 17:18:43+00:00</td>\n",
              "      <td>21</td>\n",
              "      <td>169</td>\n",
              "      <td>91</td>\n",
              "      <td>#SquidGame is 94% on @RottenTomatoes with a 86...</td>\n",
              "      <td>Twitter for Android</td>\n",
              "      <td>False</td>\n",
              "    </tr>\n",
              "    <tr>\n",
              "      <th>19997</th>\n",
              "      <td>Derek Chai Media</td>\n",
              "      <td>Sydney, Australia</td>\n",
              "      <td>Content Creator. 📸💍.Disney 🏰.👨‍👩‍👧‍👧.🐶🐱.👨‍⚕️(m...</td>\n",
              "      <td>2018-04-01 12:02:41+00:00</td>\n",
              "      <td>140</td>\n",
              "      <td>97</td>\n",
              "      <td>8303</td>\n",
              "      <td>Watching ep 2 of ##SquidGame just to see  what...</td>\n",
              "      <td>Twitterrific for iOS</td>\n",
              "      <td>False</td>\n",
              "    </tr>\n",
              "    <tr>\n",
              "      <th>19998</th>\n",
              "      <td>ADtweets🇿🇼</td>\n",
              "      <td>To infinity and beyond🌌</td>\n",
              "      <td>carpe diem🌁</td>\n",
              "      <td>2020-01-26 21:05:14+00:00</td>\n",
              "      <td>401</td>\n",
              "      <td>512</td>\n",
              "      <td>12296</td>\n",
              "      <td>Y’all think if #SquidGame was real lots of peo...</td>\n",
              "      <td>Twitter for iPhone</td>\n",
              "      <td>False</td>\n",
              "    </tr>\n",
              "    <tr>\n",
              "      <th>19999</th>\n",
              "      <td>✨Duchess of Kings✨</td>\n",
              "      <td>Bedford Stuyvesant, Brooklyn</td>\n",
              "      <td>A Finer Woman of Zeta Phi Beta Sorority Inc.,I...</td>\n",
              "      <td>2009-07-30 19:36:57+00:00</td>\n",
              "      <td>1385</td>\n",
              "      <td>932</td>\n",
              "      <td>4580</td>\n",
              "      <td>O. K. #SquidGame …… the end @MissJtotheK I’m d...</td>\n",
              "      <td>Twitter for iPhone</td>\n",
              "      <td>False</td>\n",
              "    </tr>\n",
              "  </tbody>\n",
              "</table>\n",
              "<p>20000 rows × 10 columns</p>\n",
              "</div>"
            ],
            "text/plain": [
              "                        user_name  ... is_retweet\n",
              "0       the _ûndër-ratèd niggáh👊🏾  ...      False\n",
              "1      Best uncle on planet earth  ...      False\n",
              "2                          marcie  ...      False\n",
              "3                        YoMo.Mdp  ...      False\n",
              "4                 Laura Reactions  ...      False\n",
              "...                           ...  ...        ...\n",
              "19995                      LaRell  ...      False\n",
              "19996                       Ethan  ...      False\n",
              "19997            Derek Chai Media  ...      False\n",
              "19998                  ADtweets🇿🇼  ...      False\n",
              "19999          ✨Duchess of Kings✨  ...      False\n",
              "\n",
              "[20000 rows x 10 columns]"
            ]
          },
          "metadata": {},
          "execution_count": 52
        }
      ]
    },
    {
      "cell_type": "code",
      "metadata": {
        "colab": {
          "base_uri": "https://localhost:8080/"
        },
        "id": "K9a5GnJ05cjQ",
        "outputId": "b2cdd402-9774-4d1a-9b6c-8a6fd59e5552"
      },
      "source": [
        "src=df['user_name'].loc[df['source']=='Twitterrific for iOS']\n",
        "src.value_counts()"
      ],
      "execution_count": 67,
      "outputs": [
        {
          "output_type": "execute_result",
          "data": {
            "text/plain": [
              "Doug White           2\n",
              "Josué                1\n",
              "ApartmentBoss        1\n",
              "Vito Sorelli         1\n",
              "Derek Chai Media     1\n",
              "Vincenzo Nardelli    1\n",
              "VIRACY               1\n",
              "Name: user_name, dtype: int64"
            ]
          },
          "metadata": {},
          "execution_count": 67
        }
      ]
    },
    {
      "cell_type": "code",
      "metadata": {
        "colab": {
          "base_uri": "https://localhost:8080/"
        },
        "id": "v6vnAKc46hbD",
        "outputId": "93da78f1-dd11-488e-8da9-c0cc8f5cedda"
      },
      "source": [
        "df['source'].unique()"
      ],
      "execution_count": 64,
      "outputs": [
        {
          "output_type": "execute_result",
          "data": {
            "text/plain": [
              "array(['Twitter for Android', 'Twitter Web App', 'Twitter for iPhone',\n",
              "       'Buffer', 'Twitter for iPad', 'PromoRepublic', 'TweetDeck',\n",
              "       'Instagram', 'Sprout Social', 'Hootsuite Inc.', 'Tweetbot for iΟS',\n",
              "       'dlvr.it', 'Meltwater Social', 'Twitter for Mac',\n",
              "       'SocialHub by maloon', 'Sprinklr', 'Emplifi', 'Agorapulse app',\n",
              "       'Zoho Social', 'SocialFlow', 'Echobox', 'Blog2Social APP',\n",
              "       'Twitter for Advertisers', 'IFTTT', 'Metricool',\n",
              "       'Twitter Media Studio', 'Libsyn On-Publish', 'tweetpancake',\n",
              "       'Microsoft Power Platform', 'Echofon', 'Oops Bot', 'WordPress.com',\n",
              "       'Twitterrific for iOS', 'LaterMedia', 'BizToc',\n",
              "       'Streamlabs Twitter', 'Podbean Podcast', 'Flamingo for Android',\n",
              "       'CoSchedule', 'Hypefury', 'Twitter for  iPhone', 'SmarterQueue',\n",
              "       'Nintendo Switch Share', 'Tweetlogix', 'TweetCaster for Android',\n",
              "       'TwitPane for Android', 'Vero - True Social', 'TheWrap',\n",
              "       'Periscope', 'popsugar.com', 'Fenix 2', 'Loomly', 'Spreaker',\n",
              "       'Sprinklr Publishing', 'PlayStation®Network', 'Sendible',\n",
              "       \"lucy's microwave\", 'iHeartMedia Publishing', 'www.keengamer.com',\n",
              "       'LinkedIn', 'SocialBee.io v2', 'HeyOrca',\n",
              "       'Falcon Social Media Management ',\n",
              "       'SOCi - Simplifying Social Media', 'SocialPilot.co', 'Zapier.com',\n",
              "       'SoCast Digital', 'Paste', 'Dash Hudson', 'Twitter Ads',\n",
              "       'eClincher', 'tshell-bash', 'Paper.li', 'Mailchimp', 'Planable',\n",
              "       'Rgr-reviews', 'Post Planner Inc.', 'Oyeyeah', 'Paiger',\n",
              "       'Heropost', '15 Minute Fun', 'RetailNews.asia',\n",
              "       'Hocalwire Social Share', 'FS Poster', 'Peeping Moon',\n",
              "       'ZZ v1.0 publish', 'HubSpot', 'Typefully', 'Nelio Content',\n",
              "       'Microsoft Azure Logic Apps', 'Twittimer', 'Apphi',\n",
              "       'Twitter for Advertisers.', 'Nlife CMS', 'Tweetbot for Mac',\n",
              "       'Canva', 'StockTwits Web', 'EveryoneSocial', 'Orlo',\n",
              "       'Semrush Social Media Tool', 'Salesforce - Social Studio',\n",
              "       'Publer.io', 'Thred', 'Oktopost', 'Typeshare', 'recurpost.com',\n",
              "       'TweetCaster for iOS', 'The TweetBud'], dtype=object)"
            ]
          },
          "metadata": {},
          "execution_count": 64
        }
      ]
    },
    {
      "cell_type": "code",
      "metadata": {
        "colab": {
          "base_uri": "https://localhost:8080/"
        },
        "id": "cdRuZ0mi7Zbf",
        "outputId": "3e309825-09fd-4486-a0fb-0ba21b5b2c48"
      },
      "source": [
        "(df['source']=='Twitter Web App').value_counts()"
      ],
      "execution_count": 94,
      "outputs": [
        {
          "output_type": "execute_result",
          "data": {
            "text/plain": [
              "False    16520\n",
              "True      3480\n",
              "Name: source, dtype: int64"
            ]
          },
          "metadata": {},
          "execution_count": 94
        }
      ]
    },
    {
      "cell_type": "code",
      "metadata": {
        "colab": {
          "base_uri": "https://localhost:8080/"
        },
        "id": "zu5LX2kX8Bzx",
        "outputId": "8cf9ec2c-dc10-4cd2-9955-9852f952b091"
      },
      "source": [
        "df['user_followers'].max()\n"
      ],
      "execution_count": 72,
      "outputs": [
        {
          "output_type": "execute_result",
          "data": {
            "text/plain": [
              "16846417"
            ]
          },
          "metadata": {},
          "execution_count": 72
        }
      ]
    },
    {
      "cell_type": "code",
      "metadata": {
        "colab": {
          "base_uri": "https://localhost:8080/"
        },
        "id": "zy6MfpVb-Wqr",
        "outputId": "6d217e7e-dc83-49db-b536-3a424a920a76"
      },
      "source": [
        "df['user_followers'].min()"
      ],
      "execution_count": 73,
      "outputs": [
        {
          "output_type": "execute_result",
          "data": {
            "text/plain": [
              "0"
            ]
          },
          "metadata": {},
          "execution_count": 73
        }
      ]
    },
    {
      "cell_type": "code",
      "metadata": {
        "colab": {
          "base_uri": "https://localhost:8080/"
        },
        "id": "rLVvDQTG-oyq",
        "outputId": "8e548f09-a386-4bd7-c051-43004154248d"
      },
      "source": [
        "df['user_favourites'].max()"
      ],
      "execution_count": 74,
      "outputs": [
        {
          "output_type": "execute_result",
          "data": {
            "text/plain": [
              "1144792"
            ]
          },
          "metadata": {},
          "execution_count": 74
        }
      ]
    },
    {
      "cell_type": "code",
      "metadata": {
        "colab": {
          "base_uri": "https://localhost:8080/"
        },
        "id": "-jaTJSgM-z7E",
        "outputId": "9533270d-0eb5-4e75-f3ab-2f260c72a7b7"
      },
      "source": [
        "df['user_favourites'].min()"
      ],
      "execution_count": 75,
      "outputs": [
        {
          "output_type": "execute_result",
          "data": {
            "text/plain": [
              "0"
            ]
          },
          "metadata": {},
          "execution_count": 75
        }
      ]
    },
    {
      "cell_type": "code",
      "metadata": {
        "colab": {
          "base_uri": "https://localhost:8080/"
        },
        "id": "bpH-ufo6Cg1w",
        "outputId": "f56b102b-56ca-4b65-f8a8-01a7c32d3fcc"
      },
      "source": [
        "df['user_friends'].max()"
      ],
      "execution_count": 95,
      "outputs": [
        {
          "output_type": "execute_result",
          "data": {
            "text/plain": [
              "279180"
            ]
          },
          "metadata": {},
          "execution_count": 95
        }
      ]
    },
    {
      "cell_type": "code",
      "metadata": {
        "colab": {
          "base_uri": "https://localhost:8080/"
        },
        "id": "4XYcZ51VCmmZ",
        "outputId": "a87d22b6-46ae-40ba-c3b5-390da3e3a2d9"
      },
      "source": [
        "df['user_friends'].min()"
      ],
      "execution_count": 96,
      "outputs": [
        {
          "output_type": "execute_result",
          "data": {
            "text/plain": [
              "0"
            ]
          },
          "metadata": {},
          "execution_count": 96
        }
      ]
    },
    {
      "cell_type": "code",
      "metadata": {
        "colab": {
          "base_uri": "https://localhost:8080/"
        },
        "id": "SymHxaFr-8KV",
        "outputId": "7a8c1875-0b72-40ab-be37-e78e5c4c16c6"
      },
      "source": [
        "loc=(df['user_location']=='Canada 🇨🇦')\n",
        "for i in loc:\n",
        "  if(i==True):\n",
        "      print(i )\n",
        "\n"
      ],
      "execution_count": 87,
      "outputs": [
        {
          "output_type": "stream",
          "name": "stdout",
          "text": [
            "True\n",
            "True\n"
          ]
        }
      ]
    },
    {
      "cell_type": "code",
      "metadata": {
        "colab": {
          "base_uri": "https://localhost:8080/"
        },
        "id": "2FX3R4__BzoC",
        "outputId": "b3aa849c-88d6-47b3-9cee-2b0208a92cae"
      },
      "source": [
        "loc=(df['user_location']=='Canada 🇨🇦')\n",
        "loc.value_counts()"
      ],
      "execution_count": 93,
      "outputs": [
        {
          "output_type": "execute_result",
          "data": {
            "text/plain": [
              "False    19998\n",
              "True         2\n",
              "Name: user_location, dtype: int64"
            ]
          },
          "metadata": {},
          "execution_count": 93
        }
      ]
    },
    {
      "cell_type": "code",
      "metadata": {
        "colab": {
          "base_uri": "https://localhost:8080/"
        },
        "id": "Tx-JaVe0BTJ-",
        "outputId": "afce233b-5248-4f6d-9c44-9c471813eed1"
      },
      "source": [
        "loc=(df['user_location']=='Sydney, Australia')\n",
        "#for i in loc:\n",
        " # if(i==True):\n",
        "loc.value_counts()"
      ],
      "execution_count": 91,
      "outputs": [
        {
          "output_type": "execute_result",
          "data": {
            "text/plain": [
              "False    19984\n",
              "True        16\n",
              "Name: user_location, dtype: int64"
            ]
          },
          "metadata": {},
          "execution_count": 91
        }
      ]
    }
  ]
}